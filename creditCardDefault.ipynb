{
 "cells": [
  {
   "cell_type": "code",
   "execution_count": 1,
   "metadata": {},
   "outputs": [],
   "source": [
    "import pandas as pd\n",
    "from pandas import DataFrame,Series\n",
    "from sklearn.preprocessing import StandardScaler\n",
    "from sklearn.model_selection import train_test_split\n",
    "from tensorflow.keras.models import Sequential\n",
    "from tensorflow.keras.layers import Dense"
   ]
  },
  {
   "cell_type": "code",
   "execution_count": 2,
   "metadata": {},
   "outputs": [],
   "source": [
    "creditData : DataFrame = pd.read_csv('./data/cc_default.csv', encoding='UTF-8')"
   ]
  },
  {
   "cell_type": "code",
   "execution_count": 3,
   "metadata": {},
   "outputs": [
    {
     "data": {
      "text/html": [
       "<div>\n",
       "<style scoped>\n",
       "    .dataframe tbody tr th:only-of-type {\n",
       "        vertical-align: middle;\n",
       "    }\n",
       "\n",
       "    .dataframe tbody tr th {\n",
       "        vertical-align: top;\n",
       "    }\n",
       "\n",
       "    .dataframe thead th {\n",
       "        text-align: right;\n",
       "    }\n",
       "</style>\n",
       "<table border=\"1\" class=\"dataframe\">\n",
       "  <thead>\n",
       "    <tr style=\"text-align: right;\">\n",
       "      <th></th>\n",
       "      <th>LIMIT_BAL</th>\n",
       "      <th>SEX</th>\n",
       "      <th>EDUCATION</th>\n",
       "      <th>MARRIAGE</th>\n",
       "      <th>AGE</th>\n",
       "      <th>PAY_0</th>\n",
       "      <th>PAY_2</th>\n",
       "      <th>PAY_3</th>\n",
       "      <th>PAY_4</th>\n",
       "      <th>PAY_5</th>\n",
       "      <th>...</th>\n",
       "      <th>\"BILL_AMT4\"</th>\n",
       "      <th>BILL_AMT5</th>\n",
       "      <th>BILL_AMT6</th>\n",
       "      <th>PAY_AMT1</th>\n",
       "      <th>PAY_AMT2</th>\n",
       "      <th>PAY_AMT3</th>\n",
       "      <th>PAY_AMT4</th>\n",
       "      <th>PAY_AMT5</th>\n",
       "      <th>PAY_AMT6</th>\n",
       "      <th>DEFAULT</th>\n",
       "    </tr>\n",
       "  </thead>\n",
       "  <tbody>\n",
       "    <tr>\n",
       "      <th>0</th>\n",
       "      <td>20000</td>\n",
       "      <td>2</td>\n",
       "      <td>2</td>\n",
       "      <td>1</td>\n",
       "      <td>24</td>\n",
       "      <td>2</td>\n",
       "      <td>2</td>\n",
       "      <td>-1</td>\n",
       "      <td>-1</td>\n",
       "      <td>-2</td>\n",
       "      <td>...</td>\n",
       "      <td>0</td>\n",
       "      <td>0</td>\n",
       "      <td>0</td>\n",
       "      <td>0</td>\n",
       "      <td>689</td>\n",
       "      <td>0</td>\n",
       "      <td>0</td>\n",
       "      <td>0</td>\n",
       "      <td>0</td>\n",
       "      <td>1</td>\n",
       "    </tr>\n",
       "    <tr>\n",
       "      <th>1</th>\n",
       "      <td>120000</td>\n",
       "      <td>2</td>\n",
       "      <td>2</td>\n",
       "      <td>2</td>\n",
       "      <td>26</td>\n",
       "      <td>-1</td>\n",
       "      <td>2</td>\n",
       "      <td>0</td>\n",
       "      <td>0</td>\n",
       "      <td>0</td>\n",
       "      <td>...</td>\n",
       "      <td>3272</td>\n",
       "      <td>3455</td>\n",
       "      <td>3261</td>\n",
       "      <td>0</td>\n",
       "      <td>1000</td>\n",
       "      <td>1000</td>\n",
       "      <td>1000</td>\n",
       "      <td>0</td>\n",
       "      <td>2000</td>\n",
       "      <td>1</td>\n",
       "    </tr>\n",
       "    <tr>\n",
       "      <th>2</th>\n",
       "      <td>90000</td>\n",
       "      <td>2</td>\n",
       "      <td>2</td>\n",
       "      <td>2</td>\n",
       "      <td>34</td>\n",
       "      <td>0</td>\n",
       "      <td>0</td>\n",
       "      <td>0</td>\n",
       "      <td>0</td>\n",
       "      <td>0</td>\n",
       "      <td>...</td>\n",
       "      <td>14331</td>\n",
       "      <td>14948</td>\n",
       "      <td>15549</td>\n",
       "      <td>1518</td>\n",
       "      <td>1500</td>\n",
       "      <td>1000</td>\n",
       "      <td>1000</td>\n",
       "      <td>1000</td>\n",
       "      <td>5000</td>\n",
       "      <td>0</td>\n",
       "    </tr>\n",
       "    <tr>\n",
       "      <th>3</th>\n",
       "      <td>50000</td>\n",
       "      <td>2</td>\n",
       "      <td>2</td>\n",
       "      <td>1</td>\n",
       "      <td>37</td>\n",
       "      <td>0</td>\n",
       "      <td>0</td>\n",
       "      <td>0</td>\n",
       "      <td>0</td>\n",
       "      <td>0</td>\n",
       "      <td>...</td>\n",
       "      <td>28314</td>\n",
       "      <td>28959</td>\n",
       "      <td>29547</td>\n",
       "      <td>2000</td>\n",
       "      <td>2019</td>\n",
       "      <td>1200</td>\n",
       "      <td>1100</td>\n",
       "      <td>1069</td>\n",
       "      <td>1000</td>\n",
       "      <td>0</td>\n",
       "    </tr>\n",
       "    <tr>\n",
       "      <th>4</th>\n",
       "      <td>50000</td>\n",
       "      <td>1</td>\n",
       "      <td>2</td>\n",
       "      <td>1</td>\n",
       "      <td>57</td>\n",
       "      <td>-1</td>\n",
       "      <td>0</td>\n",
       "      <td>-1</td>\n",
       "      <td>0</td>\n",
       "      <td>0</td>\n",
       "      <td>...</td>\n",
       "      <td>20940</td>\n",
       "      <td>19146</td>\n",
       "      <td>19131</td>\n",
       "      <td>2000</td>\n",
       "      <td>36681</td>\n",
       "      <td>10000</td>\n",
       "      <td>9000</td>\n",
       "      <td>689</td>\n",
       "      <td>679</td>\n",
       "      <td>0</td>\n",
       "    </tr>\n",
       "  </tbody>\n",
       "</table>\n",
       "<p>5 rows × 24 columns</p>\n",
       "</div>"
      ],
      "text/plain": [
       "   LIMIT_BAL  SEX  EDUCATION  MARRIAGE  AGE  PAY_0  PAY_2  PAY_3  PAY_4  \\\n",
       "0      20000    2          2         1   24      2      2     -1     -1   \n",
       "1     120000    2          2         2   26     -1      2      0      0   \n",
       "2      90000    2          2         2   34      0      0      0      0   \n",
       "3      50000    2          2         1   37      0      0      0      0   \n",
       "4      50000    1          2         1   57     -1      0     -1      0   \n",
       "\n",
       "   PAY_5  ...           \"BILL_AMT4\"  BILL_AMT5  BILL_AMT6  PAY_AMT1  PAY_AMT2  \\\n",
       "0     -2  ...                     0          0          0         0       689   \n",
       "1      0  ...                  3272       3455       3261         0      1000   \n",
       "2      0  ...                 14331      14948      15549      1518      1500   \n",
       "3      0  ...                 28314      28959      29547      2000      2019   \n",
       "4      0  ...                 20940      19146      19131      2000     36681   \n",
       "\n",
       "   PAY_AMT3  PAY_AMT4  PAY_AMT5  PAY_AMT6  DEFAULT  \n",
       "0         0         0         0         0        1  \n",
       "1      1000      1000         0      2000        1  \n",
       "2      1000      1000      1000      5000        0  \n",
       "3      1200      1100      1069      1000        0  \n",
       "4     10000      9000       689       679        0  \n",
       "\n",
       "[5 rows x 24 columns]"
      ]
     },
     "execution_count": 3,
     "metadata": {},
     "output_type": "execute_result"
    }
   ],
   "source": [
    "creditData.head()"
   ]
  },
  {
   "cell_type": "code",
   "execution_count": null,
   "metadata": {},
   "outputs": [],
   "source": []
  },
  {
   "cell_type": "code",
   "execution_count": 4,
   "metadata": {},
   "outputs": [
    {
     "data": {
      "text/plain": [
       "LIMIT_BAL               int64\n",
       "SEX                     int64\n",
       "EDUCATION               int64\n",
       "MARRIAGE                int64\n",
       "AGE                     int64\n",
       "PAY_0                   int64\n",
       "PAY_2                   int64\n",
       "PAY_3                   int64\n",
       "PAY_4                   int64\n",
       "PAY_5                   int64\n",
       "PAY_6                   int64\n",
       "BILL_AMT1               int64\n",
       "BILL_AMT2               int64\n",
       "BILL_AMT3               int64\n",
       "         \"BILL_AMT4\"    int64\n",
       "BILL_AMT5               int64\n",
       "BILL_AMT6               int64\n",
       "PAY_AMT1                int64\n",
       "PAY_AMT2                int64\n",
       "PAY_AMT3                int64\n",
       "PAY_AMT4                int64\n",
       "PAY_AMT5                int64\n",
       "PAY_AMT6                int64\n",
       "DEFAULT                 int64\n",
       "dtype: object"
      ]
     },
     "execution_count": 4,
     "metadata": {},
     "output_type": "execute_result"
    }
   ],
   "source": [
    "creditData.dtypes"
   ]
  },
  {
   "cell_type": "code",
   "execution_count": 5,
   "metadata": {},
   "outputs": [],
   "source": [
    "creditDataAttributes = creditData.drop(columns=[\"DEFAULT\"])"
   ]
  },
  {
   "cell_type": "code",
   "execution_count": 6,
   "metadata": {},
   "outputs": [],
   "source": [
    "creditDataLabels = creditData[\"DEFAULT\"].values"
   ]
  },
  {
   "cell_type": "code",
   "execution_count": 7,
   "metadata": {},
   "outputs": [],
   "source": [
    "attributeScaler = StandardScaler()"
   ]
  },
  {
   "cell_type": "code",
   "execution_count": 8,
   "metadata": {},
   "outputs": [
    {
     "data": {
      "text/plain": [
       "StandardScaler()"
      ]
     },
     "execution_count": 8,
     "metadata": {},
     "output_type": "execute_result"
    }
   ],
   "source": [
    "attributeScaler.fit(creditDataAttributes)"
   ]
  },
  {
   "cell_type": "code",
   "execution_count": 9,
   "metadata": {},
   "outputs": [],
   "source": [
    "creditDataAttributesScaled: DataFrame = attributeScaler.transform(creditDataAttributes)"
   ]
  },
  {
   "cell_type": "code",
   "execution_count": 10,
   "metadata": {},
   "outputs": [],
   "source": [
    "trainingAttributes, testingAttributes, trainingLabels, testingLabels = train_test_split(creditDataAttributesScaled,creditDataLabels,random_state = 72)"
   ]
  },
  {
   "cell_type": "code",
   "execution_count": 11,
   "metadata": {},
   "outputs": [],
   "source": [
    "numberOfInputs: int = 23\n",
    "numberOfHiddenNodes: int = 3*numberOfInputs"
   ]
  },
  {
   "cell_type": "code",
   "execution_count": 12,
   "metadata": {},
   "outputs": [],
   "source": [
    "neuralNet: Sequential = Sequential()"
   ]
  },
  {
   "cell_type": "code",
   "execution_count": 13,
   "metadata": {},
   "outputs": [],
   "source": [
    "neuralNet.add(Dense(units=numberOfHiddenNodes, input_dim=numberOfInputs, activation ='relu'))"
   ]
  },
  {
   "cell_type": "code",
   "execution_count": 14,
   "metadata": {},
   "outputs": [],
   "source": [
    "neuralNet.add(Dense(units=1,activation='sigmoid'))"
   ]
  },
  {
   "cell_type": "code",
   "execution_count": 15,
   "metadata": {},
   "outputs": [],
   "source": [
    "neuralNet.compile(loss='binary_crossentropy', optimizer='adam', metrics=[\"accuracy\"])"
   ]
  },
  {
   "cell_type": "code",
   "execution_count": 16,
   "metadata": {},
   "outputs": [
    {
     "name": "stdout",
     "output_type": "stream",
     "text": [
      "Epoch 1/100\n",
      "704/704 [==============================] - 1s 2ms/step - loss: 0.4770 - accuracy: 0.8062\n",
      "Epoch 2/100\n",
      "704/704 [==============================] - 1s 2ms/step - loss: 0.4492 - accuracy: 0.8168\n",
      "Epoch 3/100\n",
      "704/704 [==============================] - 1s 2ms/step - loss: 0.4422 - accuracy: 0.8183\n",
      "Epoch 4/100\n",
      "704/704 [==============================] - 1s 2ms/step - loss: 0.4387 - accuracy: 0.8192\n",
      "Epoch 5/100\n",
      "704/704 [==============================] - 1s 2ms/step - loss: 0.4370 - accuracy: 0.8190\n",
      "Epoch 6/100\n",
      "704/704 [==============================] - 1s 2ms/step - loss: 0.4352 - accuracy: 0.8189\n",
      "Epoch 7/100\n",
      "704/704 [==============================] - 1s 2ms/step - loss: 0.4334 - accuracy: 0.8208\n",
      "Epoch 8/100\n",
      "704/704 [==============================] - 1s 2ms/step - loss: 0.4333 - accuracy: 0.8208\n",
      "Epoch 9/100\n",
      "704/704 [==============================] - 1s 2ms/step - loss: 0.4320 - accuracy: 0.8186\n",
      "Epoch 10/100\n",
      "704/704 [==============================] - 1s 2ms/step - loss: 0.4312 - accuracy: 0.8200\n",
      "Epoch 11/100\n",
      "704/704 [==============================] - 1s 2ms/step - loss: 0.4306 - accuracy: 0.8192\n",
      "Epoch 12/100\n",
      "704/704 [==============================] - 1s 2ms/step - loss: 0.4297 - accuracy: 0.8206\n",
      "Epoch 13/100\n",
      "704/704 [==============================] - 1s 2ms/step - loss: 0.4299 - accuracy: 0.8209\n",
      "Epoch 14/100\n",
      "704/704 [==============================] - 1s 2ms/step - loss: 0.4295 - accuracy: 0.8211\n",
      "Epoch 15/100\n",
      "704/704 [==============================] - 1s 2ms/step - loss: 0.4284 - accuracy: 0.8199\n",
      "Epoch 16/100\n",
      "704/704 [==============================] - 1s 2ms/step - loss: 0.4276 - accuracy: 0.8204\n",
      "Epoch 17/100\n",
      "704/704 [==============================] - 1s 2ms/step - loss: 0.4274 - accuracy: 0.8218\n",
      "Epoch 18/100\n",
      "704/704 [==============================] - 1s 2ms/step - loss: 0.4268 - accuracy: 0.8204\n",
      "Epoch 19/100\n",
      "704/704 [==============================] - 1s 2ms/step - loss: 0.4260 - accuracy: 0.8216\n",
      "Epoch 20/100\n",
      "704/704 [==============================] - 1s 2ms/step - loss: 0.4263 - accuracy: 0.8216\n",
      "Epoch 21/100\n",
      "704/704 [==============================] - 1s 2ms/step - loss: 0.4250 - accuracy: 0.8227\n",
      "Epoch 22/100\n",
      "704/704 [==============================] - 1s 2ms/step - loss: 0.4254 - accuracy: 0.8224\n",
      "Epoch 23/100\n",
      "704/704 [==============================] - 1s 2ms/step - loss: 0.4242 - accuracy: 0.8217\n",
      "Epoch 24/100\n",
      "704/704 [==============================] - 1s 2ms/step - loss: 0.4244 - accuracy: 0.8227\n",
      "Epoch 25/100\n",
      "704/704 [==============================] - 1s 2ms/step - loss: 0.4240 - accuracy: 0.8216\n",
      "Epoch 26/100\n",
      "704/704 [==============================] - 1s 2ms/step - loss: 0.4239 - accuracy: 0.8220\n",
      "Epoch 27/100\n",
      "704/704 [==============================] - 1s 2ms/step - loss: 0.4235 - accuracy: 0.8235\n",
      "Epoch 28/100\n",
      "704/704 [==============================] - 1s 2ms/step - loss: 0.4236 - accuracy: 0.8221\n",
      "Epoch 29/100\n",
      "704/704 [==============================] - 1s 2ms/step - loss: 0.4218 - accuracy: 0.8226\n",
      "Epoch 30/100\n",
      "704/704 [==============================] - 1s 1ms/step - loss: 0.4222 - accuracy: 0.8241\n",
      "Epoch 31/100\n",
      "704/704 [==============================] - 1s 2ms/step - loss: 0.4218 - accuracy: 0.8227\n",
      "Epoch 32/100\n",
      "704/704 [==============================] - 1s 2ms/step - loss: 0.4219 - accuracy: 0.8231\n",
      "Epoch 33/100\n",
      "704/704 [==============================] - 1s 2ms/step - loss: 0.4212 - accuracy: 0.8240\n",
      "Epoch 34/100\n",
      "704/704 [==============================] - 1s 2ms/step - loss: 0.4211 - accuracy: 0.8232\n",
      "Epoch 35/100\n",
      "704/704 [==============================] - 1s 2ms/step - loss: 0.4204 - accuracy: 0.8236\n",
      "Epoch 36/100\n",
      "704/704 [==============================] - 1s 2ms/step - loss: 0.4206 - accuracy: 0.8225\n",
      "Epoch 37/100\n",
      "704/704 [==============================] - 1s 1ms/step - loss: 0.4199 - accuracy: 0.8224\n",
      "Epoch 38/100\n",
      "704/704 [==============================] - 1s 2ms/step - loss: 0.4197 - accuracy: 0.8237\n",
      "Epoch 39/100\n",
      "704/704 [==============================] - 1s 2ms/step - loss: 0.4187 - accuracy: 0.8240\n",
      "Epoch 40/100\n",
      "704/704 [==============================] - 1s 2ms/step - loss: 0.4198 - accuracy: 0.8240\n",
      "Epoch 41/100\n",
      "704/704 [==============================] - 1s 2ms/step - loss: 0.4193 - accuracy: 0.8232\n",
      "Epoch 42/100\n",
      "704/704 [==============================] - 1s 2ms/step - loss: 0.4191 - accuracy: 0.8228\n",
      "Epoch 43/100\n",
      "704/704 [==============================] - 1s 2ms/step - loss: 0.4180 - accuracy: 0.8239\n",
      "Epoch 44/100\n",
      "704/704 [==============================] - 1s 2ms/step - loss: 0.4182 - accuracy: 0.8236\n",
      "Epoch 45/100\n",
      "704/704 [==============================] - 1s 2ms/step - loss: 0.4180 - accuracy: 0.8236\n",
      "Epoch 46/100\n",
      "704/704 [==============================] - 1s 2ms/step - loss: 0.4177 - accuracy: 0.8230\n",
      "Epoch 47/100\n",
      "704/704 [==============================] - 1s 2ms/step - loss: 0.4174 - accuracy: 0.8247\n",
      "Epoch 48/100\n",
      "704/704 [==============================] - 1s 2ms/step - loss: 0.4170 - accuracy: 0.8241\n",
      "Epoch 49/100\n",
      "704/704 [==============================] - 1s 2ms/step - loss: 0.4172 - accuracy: 0.8248\n",
      "Epoch 50/100\n",
      "704/704 [==============================] - 1s 2ms/step - loss: 0.4161 - accuracy: 0.8236\n",
      "Epoch 51/100\n",
      "704/704 [==============================] - 1s 2ms/step - loss: 0.4163 - accuracy: 0.8249\n",
      "Epoch 52/100\n",
      "704/704 [==============================] - 1s 2ms/step - loss: 0.4160 - accuracy: 0.8236\n",
      "Epoch 53/100\n",
      "704/704 [==============================] - 1s 2ms/step - loss: 0.4158 - accuracy: 0.8251\n",
      "Epoch 54/100\n",
      "704/704 [==============================] - 1s 2ms/step - loss: 0.4155 - accuracy: 0.8242\n",
      "Epoch 55/100\n",
      "704/704 [==============================] - 1s 2ms/step - loss: 0.4156 - accuracy: 0.8240\n",
      "Epoch 56/100\n",
      "704/704 [==============================] - 1s 2ms/step - loss: 0.4157 - accuracy: 0.8255\n",
      "Epoch 57/100\n",
      "704/704 [==============================] - 1s 2ms/step - loss: 0.4153 - accuracy: 0.8257\n",
      "Epoch 58/100\n",
      "704/704 [==============================] - 1s 2ms/step - loss: 0.4147 - accuracy: 0.8259\n",
      "Epoch 59/100\n",
      "704/704 [==============================] - 1s 2ms/step - loss: 0.4142 - accuracy: 0.8239\n",
      "Epoch 60/100\n",
      "704/704 [==============================] - 1s 2ms/step - loss: 0.4139 - accuracy: 0.8261\n",
      "Epoch 61/100\n",
      "704/704 [==============================] - 1s 2ms/step - loss: 0.4140 - accuracy: 0.8250\n",
      "Epoch 62/100\n",
      "704/704 [==============================] - 1s 2ms/step - loss: 0.4136 - accuracy: 0.8260\n",
      "Epoch 63/100\n",
      "704/704 [==============================] - 1s 2ms/step - loss: 0.4142 - accuracy: 0.8259\n",
      "Epoch 64/100\n",
      "704/704 [==============================] - 1s 2ms/step - loss: 0.4146 - accuracy: 0.8260\n",
      "Epoch 65/100\n",
      "704/704 [==============================] - 1s 2ms/step - loss: 0.4136 - accuracy: 0.8256\n",
      "Epoch 66/100\n",
      "704/704 [==============================] - 1s 2ms/step - loss: 0.4127 - accuracy: 0.8279\n",
      "Epoch 67/100\n",
      "704/704 [==============================] - 1s 2ms/step - loss: 0.4133 - accuracy: 0.8256\n",
      "Epoch 68/100\n",
      "704/704 [==============================] - 1s 2ms/step - loss: 0.4120 - accuracy: 0.8264\n",
      "Epoch 69/100\n",
      "704/704 [==============================] - 1s 2ms/step - loss: 0.4134 - accuracy: 0.8256\n",
      "Epoch 70/100\n",
      "704/704 [==============================] - 1s 2ms/step - loss: 0.4123 - accuracy: 0.8255\n",
      "Epoch 71/100\n",
      "704/704 [==============================] - 1s 2ms/step - loss: 0.4117 - accuracy: 0.8263\n",
      "Epoch 72/100\n",
      "704/704 [==============================] - 1s 2ms/step - loss: 0.4123 - accuracy: 0.8272\n",
      "Epoch 73/100\n",
      "704/704 [==============================] - 1s 2ms/step - loss: 0.4124 - accuracy: 0.8258\n",
      "Epoch 74/100\n",
      "704/704 [==============================] - 1s 2ms/step - loss: 0.4120 - accuracy: 0.8256\n",
      "Epoch 75/100\n",
      "704/704 [==============================] - 1s 2ms/step - loss: 0.4114 - accuracy: 0.8262\n",
      "Epoch 76/100\n",
      "704/704 [==============================] - 1s 2ms/step - loss: 0.4112 - accuracy: 0.8258\n",
      "Epoch 77/100\n",
      "704/704 [==============================] - 1s 2ms/step - loss: 0.4107 - accuracy: 0.8267: 0s - loss: 0.4095 - accuracy\n",
      "Epoch 78/100\n",
      "704/704 [==============================] - 1s 2ms/step - loss: 0.4105 - accuracy: 0.8274\n",
      "Epoch 79/100\n",
      "704/704 [==============================] - 1s 2ms/step - loss: 0.4105 - accuracy: 0.8266\n",
      "Epoch 80/100\n",
      "704/704 [==============================] - 1s 2ms/step - loss: 0.4105 - accuracy: 0.8260\n",
      "Epoch 81/100\n"
     ]
    },
    {
     "name": "stdout",
     "output_type": "stream",
     "text": [
      "704/704 [==============================] - 1s 2ms/step - loss: 0.4104 - accuracy: 0.8264\n",
      "Epoch 82/100\n",
      "704/704 [==============================] - 1s 2ms/step - loss: 0.4093 - accuracy: 0.8275\n",
      "Epoch 83/100\n",
      "704/704 [==============================] - 1s 2ms/step - loss: 0.4100 - accuracy: 0.8279\n",
      "Epoch 84/100\n",
      "704/704 [==============================] - 1s 2ms/step - loss: 0.4095 - accuracy: 0.8265\n",
      "Epoch 85/100\n",
      "704/704 [==============================] - 1s 2ms/step - loss: 0.4091 - accuracy: 0.8273\n",
      "Epoch 86/100\n",
      "704/704 [==============================] - 1s 2ms/step - loss: 0.4091 - accuracy: 0.8279\n",
      "Epoch 87/100\n",
      "704/704 [==============================] - 1s 2ms/step - loss: 0.4096 - accuracy: 0.8280\n",
      "Epoch 88/100\n",
      "704/704 [==============================] - 1s 2ms/step - loss: 0.4089 - accuracy: 0.8267\n",
      "Epoch 89/100\n",
      "704/704 [==============================] - 1s 2ms/step - loss: 0.4096 - accuracy: 0.8264\n",
      "Epoch 90/100\n",
      "704/704 [==============================] - 1s 2ms/step - loss: 0.4084 - accuracy: 0.8279\n",
      "Epoch 91/100\n",
      "704/704 [==============================] - 1s 2ms/step - loss: 0.4085 - accuracy: 0.8277\n",
      "Epoch 92/100\n",
      "704/704 [==============================] - 1s 2ms/step - loss: 0.4088 - accuracy: 0.8274\n",
      "Epoch 93/100\n",
      "704/704 [==============================] - 1s 2ms/step - loss: 0.4086 - accuracy: 0.8268\n",
      "Epoch 94/100\n",
      "704/704 [==============================] - 1s 2ms/step - loss: 0.4083 - accuracy: 0.8274\n",
      "Epoch 95/100\n",
      "704/704 [==============================] - 1s 2ms/step - loss: 0.4078 - accuracy: 0.8278\n",
      "Epoch 96/100\n",
      "704/704 [==============================] - 1s 2ms/step - loss: 0.4072 - accuracy: 0.8268\n",
      "Epoch 97/100\n",
      "704/704 [==============================] - 1s 2ms/step - loss: 0.4083 - accuracy: 0.8270\n",
      "Epoch 98/100\n",
      "704/704 [==============================] - 1s 2ms/step - loss: 0.4078 - accuracy: 0.8275\n",
      "Epoch 99/100\n",
      "704/704 [==============================] - 1s 2ms/step - loss: 0.4076 - accuracy: 0.8276\n",
      "Epoch 100/100\n",
      "704/704 [==============================] - 1s 2ms/step - loss: 0.4079 - accuracy: 0.8285\n"
     ]
    }
   ],
   "source": [
    "model = neuralNet.fit(trainingAttributes, trainingLabels, epochs=100)"
   ]
  },
  {
   "cell_type": "code",
   "execution_count": null,
   "metadata": {},
   "outputs": [],
   "source": []
  },
  {
   "cell_type": "code",
   "execution_count": 20,
   "metadata": {},
   "outputs": [],
   "source": [
    "modelLoss: DataFrame = pd.DataFrame(model.history, index=range(1, len(model.history['loss']) + 1))\n"
   ]
  },
  {
   "cell_type": "code",
   "execution_count": 21,
   "metadata": {},
   "outputs": [
    {
     "data": {
      "text/plain": [
       "<matplotlib.axes._subplots.AxesSubplot at 0x2681051d288>"
      ]
     },
     "execution_count": 21,
     "metadata": {},
     "output_type": "execute_result"
    },
    {
     "data": {
      "image/png": "[encoded data removed]",
      "text/plain": [
       "<Figure size 432x288 with 1 Axes>"
      ]
     },
     "metadata": {
      "needs_background": "light"
     },
     "output_type": "display_data"
    }
   ],
   "source": [
    "modelLoss.plot(y='loss')"
   ]
  },
  {
   "cell_type": "code",
   "execution_count": null,
   "metadata": {},
   "outputs": [],
   "source": []
  },
  {
   "cell_type": "code",
   "execution_count": 22,
   "metadata": {},
   "outputs": [
    {
     "data": {
      "text/plain": [
       "<matplotlib.axes._subplots.AxesSubplot at 0x26811e13f88>"
      ]
     },
     "execution_count": 22,
     "metadata": {},
     "output_type": "execute_result"
    },
    {
     "data": {
      "image/png": "[encoded data removed]",
      "text/plain": [
       "<Figure size 432x288 with 1 Axes>"
      ]
     },
     "metadata": {
      "needs_background": "light"
     },
     "output_type": "display_data"
    }
   ],
   "source": [
    "modelLoss.plot(y='accuracy')"
   ]
  },
  {
   "cell_type": "code",
   "execution_count": 23,
   "metadata": {},
   "outputs": [
    {
     "name": "stdout",
     "output_type": "stream",
     "text": [
      "235/235 [==============================] - 0s 1ms/step - loss: 0.4439 - accuracy: 0.8133\n"
     ]
    }
   ],
   "source": [
    "loss, accuracy = neuralNet.evaluate(testingAttributes, testingLabels)"
   ]
  },
  {
   "cell_type": "code",
   "execution_count": null,
   "metadata": {},
   "outputs": [],
   "source": []
  }
 ],
 "metadata": {
  "kernelspec": {
   "display_name": "PythonData",
   "language": "python",
   "name": "pythondata"
  },
  "language_info": {
   "codemirror_mode": {
    "name": "ipython",
    "version": 3
   },
   "file_extension": ".py",
   "mimetype": "text/x-python",
   "name": "python",
   "nbconvert_exporter": "python",
   "pygments_lexer": "ipython3",
   "version": "3.7.7"
  }
 },
 "nbformat": 4,
 "nbformat_minor": 4
}
